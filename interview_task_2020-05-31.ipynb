{
 "cells": [
  {
   "cell_type": "markdown",
   "metadata": {},
   "source": [
    "# Задача перед консультацией 31 мая 2020\n",
    "Имеем два списка целых чисел. Необходимо найти общее число элементов"
   ]
  },
  {
   "cell_type": "code",
   "execution_count": 1,
   "metadata": {},
   "outputs": [],
   "source": [
    "a = [1, 2, 3]\n",
    "b = [2, 3, 4]"
   ]
  },
  {
   "cell_type": "markdown",
   "metadata": {},
   "source": [
    "Решение в лоб:"
   ]
  },
  {
   "cell_type": "code",
   "execution_count": 2,
   "metadata": {},
   "outputs": [
    {
     "name": "stdout",
     "output_type": "stream",
     "text": [
      "2\n"
     ]
    }
   ],
   "source": [
    "intersection_count = 0\n",
    "\n",
    "for x in b:\n",
    "    if x in a:\n",
    "        intersection_count += 1\n",
    "        \n",
    "print(intersection_count)"
   ]
  },
  {
   "cell_type": "markdown",
   "metadata": {},
   "source": [
    "Посмотрим насколько быстро работает. Возьмем списки побольше и многократно прогоним цикл:\n",
    "- список a принимает значения от 10 до 10 тысяч\n",
    "- список b принимает значения от 100 до 100 тысяч\n",
    "- замеряем время выполнения с помощью магической команды %%time"
   ]
  },
  {
   "cell_type": "code",
   "execution_count": 3,
   "metadata": {},
   "outputs": [],
   "source": [
    "a = list(range(10, 10**4))\n",
    "b = list(range(10**2, 10**5))"
   ]
  },
  {
   "cell_type": "code",
   "execution_count": 4,
   "metadata": {},
   "outputs": [
    {
     "name": "stdout",
     "output_type": "stream",
     "text": [
      "9900\n",
      "CPU times: user 11.1 s, sys: 72.8 ms, total: 11.1 s\n",
      "Wall time: 11.7 s\n"
     ]
    }
   ],
   "source": [
    "%%time\n",
    "intersection_count = 0\n",
    "\n",
    "for x in b:        \n",
    "    if x in a:\n",
    "        intersection_count += 1\n",
    "        \n",
    "print(intersection_count)"
   ]
  },
  {
   "cell_type": "markdown",
   "metadata": {},
   "source": [
    "# Время для оптимизации\n",
    "Заменим список a на множество. Множество устроено на основе хэш-таблиц, поэтому в большинстве случаев поиск по нему не зависит от времени. И в случае большого числа элементов происходит гораздо быстрее, чем по списку. Итак, меняем объявление списка a на множество:\n",
    "```python\n",
    "a = set(range(10, 10**4))\n",
    "```"
   ]
  },
  {
   "cell_type": "code",
   "execution_count": 5,
   "metadata": {},
   "outputs": [],
   "source": [
    "a = set(range(10, 10**4))\n",
    "b = list(range(10**2, 10**5))"
   ]
  },
  {
   "cell_type": "code",
   "execution_count": 6,
   "metadata": {},
   "outputs": [
    {
     "name": "stdout",
     "output_type": "stream",
     "text": [
      "9900\n",
      "CPU times: user 11.1 ms, sys: 2.46 ms, total: 13.5 ms\n",
      "Wall time: 17.3 ms\n"
     ]
    }
   ],
   "source": [
    "%%time\n",
    "intersection_count = 0\n",
    "\n",
    "for x in b:        \n",
    "    if x in a:\n",
    "        intersection_count += 1\n",
    "        \n",
    "print(intersection_count)"
   ]
  },
  {
   "cell_type": "markdown",
   "metadata": {},
   "source": [
    "Теперь проверим, что от размера множества a теперь мало что зависит. Попробуем увеличить его размеры на порядок."
   ]
  },
  {
   "cell_type": "code",
   "execution_count": 7,
   "metadata": {},
   "outputs": [],
   "source": [
    "a = set(range(10, 10**5))"
   ]
  },
  {
   "cell_type": "code",
   "execution_count": 8,
   "metadata": {},
   "outputs": [
    {
     "name": "stdout",
     "output_type": "stream",
     "text": [
      "99900\n",
      "CPU times: user 14.4 ms, sys: 553 µs, total: 15 ms\n",
      "Wall time: 15.7 ms\n"
     ]
    }
   ],
   "source": [
    "%%time\n",
    "intersection_count = 0\n",
    "\n",
    "for x in b:        \n",
    "    if x in a:\n",
    "        intersection_count += 1\n",
    "        \n",
    "print(intersection_count)"
   ]
  },
  {
   "cell_type": "markdown",
   "metadata": {},
   "source": [
    "Увеличим еще на порядок"
   ]
  },
  {
   "cell_type": "code",
   "execution_count": 9,
   "metadata": {},
   "outputs": [],
   "source": [
    "a = set(range(10, 10**6))"
   ]
  },
  {
   "cell_type": "code",
   "execution_count": 10,
   "metadata": {},
   "outputs": [
    {
     "name": "stdout",
     "output_type": "stream",
     "text": [
      "99900\n",
      "CPU times: user 13.8 ms, sys: 737 µs, total: 14.5 ms\n",
      "Wall time: 16.4 ms\n"
     ]
    }
   ],
   "source": [
    "%%time\n",
    "intersection_count = 0\n",
    "\n",
    "for x in b:        \n",
    "    if x in a:\n",
    "        intersection_count += 1\n",
    "        \n",
    "print(intersection_count)"
   ]
  },
  {
   "cell_type": "markdown",
   "metadata": {},
   "source": [
    "И еще на порядок"
   ]
  },
  {
   "cell_type": "code",
   "execution_count": 11,
   "metadata": {},
   "outputs": [],
   "source": [
    "a = set(range(10, 10**7))"
   ]
  },
  {
   "cell_type": "code",
   "execution_count": 12,
   "metadata": {},
   "outputs": [
    {
     "name": "stdout",
     "output_type": "stream",
     "text": [
      "99900\n",
      "CPU times: user 16.6 ms, sys: 906 µs, total: 17.5 ms\n",
      "Wall time: 17.6 ms\n"
     ]
    }
   ],
   "source": [
    "%%time\n",
    "intersection_count = 0\n",
    "\n",
    "for x in b:        \n",
    "    if x in a:\n",
    "        intersection_count += 1\n",
    "        \n",
    "print(intersection_count)"
   ]
  },
  {
   "cell_type": "markdown",
   "metadata": {},
   "source": [
    "Число элементов для поиска растет, а время выполнения - нет. Множества это круто."
   ]
  }
 ],
 "metadata": {
  "kernelspec": {
   "display_name": "Python 3",
   "language": "python",
   "name": "python3"
  },
  "language_info": {
   "codemirror_mode": {
    "name": "ipython",
    "version": 3
   },
   "file_extension": ".py",
   "mimetype": "text/x-python",
   "name": "python",
   "nbconvert_exporter": "python",
   "pygments_lexer": "ipython3",
   "version": "3.7.0"
  }
 },
 "nbformat": 4,
 "nbformat_minor": 2
}
